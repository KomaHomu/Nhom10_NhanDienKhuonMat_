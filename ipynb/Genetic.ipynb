{
 "cells": [
  {
   "attachments": {},
   "cell_type": "markdown",
   "metadata": {},
   "source": [
    "## Genetic"
   ]
  },
  {
   "attachments": {},
   "cell_type": "markdown",
   "metadata": {},
   "source": [
    "Bước 1: Tiền xử lý dữ liệu ảnh. Lấy tên tệp và gán nó làm label cho tất cả các ảnh trong tệp đó. Chỉ sử dụng những ảnh đuôi .pgm."
   ]
  },
  {
   "cell_type": "code",
   "execution_count": 1,
   "metadata": {},
   "outputs": [],
   "source": [
    "import os\n",
    "import cv2\n",
    "\n",
    "ROOT_DIR = os.path.abspath(\"../\")\n",
    "data_dir = os.path.join(ROOT_DIR, \"CMU_FACE_Data/faces\")\n",
    "X = []  # Features\n",
    "y = []  # Labels\n",
    "size = (64, 64)\n",
    "\n",
    "for folder_name in os.listdir(data_dir):\n",
    "    label = folder_name\n",
    "    folder_path = os.path.join(data_dir, folder_name)\n",
    "    for filename in os.listdir(folder_path):\n",
    "        image_path = os.path.join(folder_path, filename)\n",
    "        image = cv2.imread(image_path, cv2.IMREAD_GRAYSCALE)\n",
    "        image = cv2.resize(image, size)\n",
    "        if image is not None:\n",
    "            X.append(image)\n",
    "            y.append(label)"
   ]
  },
  {
   "cell_type": "code",
   "execution_count": 2,
   "metadata": {},
   "outputs": [
    {
     "name": "stdout",
     "output_type": "stream",
     "text": [
      "['an2i' 'at33' 'boland' 'bpm' 'ch4f' 'cheyer' 'choon' 'danieln' 'glickman'\n",
      " 'karyadi' 'kawamura' 'kk49' 'megak' 'mitchell' 'night' 'phoebe' 'saavik'\n",
      " 'steffi' 'sz24' 'tammo']\n"
     ]
    }
   ],
   "source": [
    "import numpy as np\n",
    "\n",
    "print(np.unique(y))"
   ]
  },
  {
   "attachments": {},
   "cell_type": "markdown",
   "metadata": {},
   "source": [
    "Bước 2: Làm phẳng dữ liệu ảnh và chuyển sang Numpy array dạng float."
   ]
  },
  {
   "cell_type": "code",
   "execution_count": 3,
   "metadata": {},
   "outputs": [],
   "source": [
    "data = []\n",
    "for x in X:\n",
    "    d = x.flatten()\n",
    "    data.append(d)\n",
    "data = np.array(data)\n",
    "data = data.astype(float)"
   ]
  },
  {
   "attachments": {},
   "cell_type": "markdown",
   "metadata": {},
   "source": [
    "Bước 3: Sử dụng phương thức train_test_split để chia dữ liệu thành tập huấn luyện và tập kiểm tra với tỉ lệ 8 : 2."
   ]
  },
  {
   "cell_type": "code",
   "execution_count": 4,
   "metadata": {},
   "outputs": [],
   "source": [
    "from sklearn.model_selection import train_test_split\n",
    "\n",
    "X_train, X_test, y_train, y_test = train_test_split(data, y, test_size=0.2, random_state=42)"
   ]
  },
  {
   "attachments": {},
   "cell_type": "markdown",
   "metadata": {},
   "source": [
    "Bước 4:\n",
    "1. Tạo một đối tượng clf_rf từ lớp RandomForestClassifier với tham số max_depth=6 và random_state=42. Đối tượng này sẽ được sử dụng làm bộ phân loại trong quá trình tìm kiếm di truyền.\n",
    "2. Tạo một đối tượng selector từ lớp GeneticSelectionCV với các tham số như sau:\n",
    "    + clf_rf: Bộ phân loại RandomForest đã được khởi tạo trước đó.\n",
    "    + cv=5: Số lượng folds trong cross-validation.\n",
    "    + verbose=0: Không hiển thị thông báo trong quá trình tìm kiếm.\n",
    "    + scoring=\"accuracy\": Đánh giá hiệu suất sử dụng độ chính xác.\n",
    "    + max_features=10: Số lượng đặc trưng tối đa được chọn trong mỗi thế hệ.\n",
    "    + n_population=50: Số lượng cá thể trong quần thể di truyền.\n",
    "    + crossover_proba=0.5: Xác suất chéo gen trong quá trình lai ghép.\n",
    "    + mutation_proba=0.2: Xác suất đột biến gen trong quá trình đột biến.\n",
    "    + n_generations=50: Số lượng thế hệ trong quá trình tìm kiếm.\n",
    "    + crossover_independent_proba=0.5: Xác suất lai ghép độc lập giữa các cặp gen trong quá trình lai ghép.\n",
    "    + mutation_independent_proba=0.04: Xác suất đột biến độc lập của từng gen trong quá trình đột biến.\n",
    "    + tournament_size=5: Số lượng cá thể được chọn ngẫu nhiên để tham gia giải đấu (tournament selection).\n",
    "    + n_gen_no_change=10: Số lượng thế hệ liên tiếp mà không có sự cải thiện trong điểm số tốt nhất.\n",
    "    + caching=True: Lưu trữ các giá trị trung gian để tăng tốc độ tính toán.\n",
    "    + n_jobs=-1: Sử dụng tất cả các CPU trong quá trình tính toán.\n",
    "3. Sử dụng phương thức fit(X_train, y_train) trên đối tượng selector để thực hiện quá trình tìm kiếm di truyền trên dữ liệu huấn luyện X_train và y_train.\n",
    "4. Sử dụng phương thức predict(X_test) trên đối tượng selector để dự đoán nhãn cho tập kiểm tra X_test. Kết quả được lưu vào biến y_pred."
   ]
  },
  {
   "cell_type": "code",
   "execution_count": 5,
   "metadata": {},
   "outputs": [],
   "source": [
    "from sklearn.ensemble import RandomForestClassifier\n",
    "from genetic_selection import GeneticSelectionCV\n",
    "\n",
    "clf_rf = RandomForestClassifier(max_depth=6, random_state=42)\n",
    "\n",
    "selector = GeneticSelectionCV(\n",
    "    clf_rf, cv=5, verbose=0,\n",
    "    scoring=\"accuracy\", max_features=10,\n",
    "    n_population=50, crossover_proba=0.5,\n",
    "    mutation_proba=0.2, n_generations=50,\n",
    "    crossover_independent_proba=0.5,\n",
    "    mutation_independent_proba=0.04,\n",
    "    tournament_size=5, n_gen_no_change=10,\n",
    "    caching=True, n_jobs=-1)\n",
    "selector = selector.fit(X_train, y_train)"
   ]
  },
  {
   "cell_type": "code",
   "execution_count": 6,
   "metadata": {},
   "outputs": [
    {
     "name": "stderr",
     "output_type": "stream",
     "text": [
      "d:\\Tools\\Python3.9\\lib\\site-packages\\sklearn\\utils\\metaestimators.py:121: FutureWarning: if_delegate_has_method was deprecated in version 1.1 and will be removed in version 1.3. Use available_if instead.\n",
      "  warnings.warn(\n"
     ]
    }
   ],
   "source": [
    "y_pred = selector.predict(X_test)"
   ]
  },
  {
   "attachments": {},
   "cell_type": "markdown",
   "metadata": {},
   "source": [
    "Bước 5: Tính Accuracy và F1 Score.\n",
    "\n",
    "+ Độ chính xác (Accuracy): Độ chính xác được tính bằng cách so sánh nhãn thực tế (y_test) với nhãn dự đoán (y_pred) trên tập kiểm tra. Độ chính xác là tỷ lệ giữa số lượng dự đoán chính xác và tổng số mẫu. acc = TP + TN / (TP + TN + FP + FN)\n",
    "+ F1 Score: F1 Score là một số đo kết hợp giữa độ chính xác (precision) và độ phủ (recall) của mô hình. F1 Score là trung bình điều hoà của precision và recall, và được tính bằng công thức: F1 = 2 * (precision * recall) / (precision + recall).\n",
    "    Precision = TP / (TP + FP)\n",
    "    Recall = TP / (TP + FN)"
   ]
  },
  {
   "cell_type": "code",
   "execution_count": 7,
   "metadata": {},
   "outputs": [
    {
     "name": "stdout",
     "output_type": "stream",
     "text": [
      "Accuracy: 0.9788359788359788\n"
     ]
    }
   ],
   "source": [
    "from sklearn.metrics import accuracy_score\n",
    "\n",
    "accuracy = accuracy_score(y_test, y_pred)\n",
    "print(\"Accuracy:\", accuracy)"
   ]
  },
  {
   "cell_type": "code",
   "execution_count": 8,
   "metadata": {},
   "outputs": [
    {
     "name": "stdout",
     "output_type": "stream",
     "text": [
      "F1 Score: 0.9774236237898345\n"
     ]
    }
   ],
   "source": [
    "from sklearn.metrics import f1_score\n",
    "\n",
    "f1 = f1_score(y_test, y_pred, average='macro')\n",
    "print(\"F1 Score:\", f1)"
   ]
  }
 ],
 "metadata": {
  "kernelspec": {
   "display_name": "venv",
   "language": "python",
   "name": "python3"
  },
  "language_info": {
   "codemirror_mode": {
    "name": "ipython",
    "version": 3
   },
   "file_extension": ".py",
   "mimetype": "text/x-python",
   "name": "python",
   "nbconvert_exporter": "python",
   "pygments_lexer": "ipython3",
   "version": "3.9.0"
  },
  "orig_nbformat": 4
 },
 "nbformat": 4,
 "nbformat_minor": 2
}
