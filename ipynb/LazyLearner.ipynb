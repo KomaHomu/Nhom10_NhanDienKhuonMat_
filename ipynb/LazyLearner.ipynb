{
 "cells": [
  {
   "attachments": {},
   "cell_type": "markdown",
   "metadata": {},
   "source": [
    "## Lazy Learner\n"
   ]
  },
  {
   "attachments": {},
   "cell_type": "markdown",
   "metadata": {},
   "source": [
    "Bước 1: Tiền xử lý dữ liệu ảnh. Lấy tên tệp và gán nó làm label cho tất cả các ảnh trong tệp đó. Chỉ sử dụng những ảnh đuôi .pgm."
   ]
  },
  {
   "cell_type": "code",
   "execution_count": 1,
   "metadata": {},
   "outputs": [],
   "source": [
    "import os\n",
    "import cv2\n",
    "\n",
    "ROOT_DIR = os.path.abspath(\"../\")\n",
    "data_dir = os.path.join(ROOT_DIR, \"CMU_FACE_Data/faces\")\n",
    "X = []  # Features\n",
    "y = []  # Labels\n",
    "size = (64, 64)\n",
    "\n",
    "for folder_name in os.listdir(data_dir):\n",
    "    label = folder_name\n",
    "    folder_path = os.path.join(data_dir, folder_name)\n",
    "    for filename in os.listdir(folder_path):\n",
    "        image_path = os.path.join(folder_path, filename)\n",
    "        image = cv2.imread(image_path, cv2.IMREAD_GRAYSCALE)\n",
    "        image = cv2.resize(image, size)\n",
    "        if image is not None:\n",
    "            X.append(image)\n",
    "            y.append(label)"
   ]
  },
  {
   "cell_type": "code",
   "execution_count": 2,
   "metadata": {},
   "outputs": [
    {
     "name": "stdout",
     "output_type": "stream",
     "text": [
      "['an2i' 'at33' 'boland' 'bpm' 'ch4f' 'cheyer' 'choon' 'danieln' 'glickman'\n",
      " 'karyadi' 'kawamura' 'kk49' 'megak' 'mitchell' 'night' 'phoebe' 'saavik'\n",
      " 'steffi' 'sz24' 'tammo']\n"
     ]
    }
   ],
   "source": [
    "import numpy as np\n",
    "\n",
    "print(np.unique(y))"
   ]
  },
  {
   "attachments": {},
   "cell_type": "markdown",
   "metadata": {},
   "source": [
    "Bước 2: Làm phẳng dữ liệu ảnh."
   ]
  },
  {
   "cell_type": "code",
   "execution_count": 3,
   "metadata": {},
   "outputs": [],
   "source": [
    "data = []\n",
    "for x in X:\n",
    "    d = x.flatten()\n",
    "    data.append(d)"
   ]
  },
  {
   "attachments": {},
   "cell_type": "markdown",
   "metadata": {},
   "source": [
    "Bước 3: Sử dụng phương thức train_test_split để chia dữ liệu thành tập huấn luyện và tập kiểm tra với tỉ lệ 8 : 2."
   ]
  },
  {
   "cell_type": "code",
   "execution_count": 4,
   "metadata": {},
   "outputs": [],
   "source": [
    "from sklearn.model_selection import train_test_split\n",
    "\n",
    "X_train, X_test, y_train, y_test = train_test_split(data, y, test_size=0.2, random_state=42)"
   ]
  },
  {
   "attachments": {},
   "cell_type": "markdown",
   "metadata": {},
   "source": [
    "Bước 4:\n",
    "Ý tưởng cơ bản của thuật toán K-nearest neighbors (K-NN) dựa trên việc so sánh khoảng cách giữa một điểm dữ liệu mới và các điểm dữ liệu đã được gán nhãn trong tập huấn luyện để quyết định nhãn của điểm dữ liệu mới đó.\n",
    "1. Tạo một đối tượng knn từ lớp KNeighborsClassifier. Đối số n_neighbors được đặt bằng len(np.unique(y)), bằng số lượng các nhãn đặc biệt trong tập huấn luyện.\n",
    "2. Sử dụng phương thức fit(X_train, y_train) trên đối tượng knn để huấn luyện bộ phân loại trên dữ liệu huấn luyện.\n",
    "3. Sử dụng phương thức predict(X_test) trên đối tượng knn để dự đoán nhãn cho dữ liệu kiểm tra. Kết quả dự đoán được lưu trong biến y_pred.\n",
    "\n",
    "Kết quả của quá trình dự đoán là một mảng y_pred chứa nhãn dự đoán cho dữ liệu kiểm tra."
   ]
  },
  {
   "cell_type": "code",
   "execution_count": 5,
   "metadata": {},
   "outputs": [],
   "source": [
    "from sklearn.neighbors import KNeighborsClassifier\n",
    "\n",
    "knn = KNeighborsClassifier(n_neighbors=len(np.unique(y)))\n",
    "knn.fit(X_train, y_train)\n",
    "\n",
    "y_pred = knn.predict(X_test)"
   ]
  },
  {
   "attachments": {},
   "cell_type": "markdown",
   "metadata": {},
   "source": [
    "Bước 5: Tính Accuracy và F1 Score.\n",
    "\n",
    "+ Độ chính xác (Accuracy): Độ chính xác được tính bằng cách so sánh nhãn thực tế (y_test) với nhãn dự đoán (y_pred) trên tập kiểm tra. Độ chính xác là tỷ lệ giữa số lượng dự đoán chính xác và tổng số mẫu. acc = TP + TN / (TP + TN + FP + FN)\n",
    "+ F1 Score: F1 Score là một số đo kết hợp giữa độ chính xác (precision) và độ phủ (recall) của mô hình. F1 Score là trung bình điều hoà của precision và recall, và được tính bằng công thức: F1 = 2 * (precision * recall) / (precision + recall).\n",
    "    Precision = TP / (TP + FP)\n",
    "    Recall = TP / (TP + FN)"
   ]
  },
  {
   "cell_type": "code",
   "execution_count": 6,
   "metadata": {},
   "outputs": [
    {
     "name": "stdout",
     "output_type": "stream",
     "text": [
      "Accuracy: 0.9708994708994709\n"
     ]
    }
   ],
   "source": [
    "from sklearn.metrics import accuracy_score\n",
    "\n",
    "# Calculate the accuracy of the classifier\n",
    "accuracy = accuracy_score(y_test, y_pred)\n",
    "print(\"Accuracy:\", accuracy)"
   ]
  },
  {
   "cell_type": "code",
   "execution_count": 7,
   "metadata": {},
   "outputs": [
    {
     "name": "stdout",
     "output_type": "stream",
     "text": [
      "F1 Score: 0.9703391888470604\n"
     ]
    }
   ],
   "source": [
    "from sklearn.metrics import f1_score\n",
    "\n",
    "f1 = f1_score(y_test, y_pred, average='macro')\n",
    "print(\"F1 Score:\", f1)"
   ]
  }
 ],
 "metadata": {
  "kernelspec": {
   "display_name": "venv",
   "language": "python",
   "name": "python3"
  },
  "language_info": {
   "codemirror_mode": {
    "name": "ipython",
    "version": 3
   },
   "file_extension": ".py",
   "mimetype": "text/x-python",
   "name": "python",
   "nbconvert_exporter": "python",
   "pygments_lexer": "ipython3",
   "version": "3.9.0"
  },
  "orig_nbformat": 4
 },
 "nbformat": 4,
 "nbformat_minor": 2
}
